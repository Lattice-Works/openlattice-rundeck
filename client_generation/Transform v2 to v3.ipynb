{
 "cells": [
  {
   "cell_type": "code",
   "execution_count": 1,
   "metadata": {},
   "outputs": [],
   "source": [
    "from collections import OrderedDict \n",
    "import yaml\n",
    "import os"
   ]
  },
  {
   "cell_type": "markdown",
   "metadata": {},
   "source": [
    "# Get existing specifications"
   ]
  },
  {
   "cell_type": "markdown",
   "metadata": {},
   "source": [
    "## Extract paths"
   ]
  },
  {
   "cell_type": "code",
   "execution_count": null,
   "metadata": {},
   "outputs": [],
   "source": []
  },
  {
   "cell_type": "code",
   "execution_count": 2,
   "metadata": {},
   "outputs": [],
   "source": [
    "tags = [\n",
    "#     'execution', \n",
    "#     'job', \n",
    "    'project', \n",
    "#     'storage', \n",
    "#     'system', \n",
    "#     'user',\n",
    "#     'metric'\n",
    "]\n",
    "\n",
    "paths = {}\n",
    "for tag in tags:\n",
    "    api_file = os.path.join('..', 'rundeck', f'{tag}.yaml')\n",
    "    with open(api_file, 'r') as af:\n",
    "        api_dict = yaml.load(af, Loader = yaml.FullLoader)\n",
    "    \n",
    "    for path, api in api_dict['paths'].items():\n",
    "        for method, content in api.items():\n",
    "            new_path = {}\n",
    "            \n",
    "            # summary\n",
    "            new_path['summary'] = content['summary']\n",
    "            new_path['operationId'] = content['operationId']\n",
    "            \n",
    "            # tags\n",
    "            if not 'tags' in content.keys():\n",
    "                new_path['tags'] = [tag]\n",
    "            else:\n",
    "                new_path['tags'] = content['tags']\n",
    "                \n",
    "            # parameters\n",
    "            if 'parameters' in content.keys():\n",
    "                parameters = []\n",
    "                request_body = {}\n",
    "                for old_parameter in content['parameters']:\n",
    "                    if old_parameter['in'] == 'body':\n",
    "#                         request_body['name'] = old_parameter['name']\n",
    "                        request_body['required'] = old_parameter['required']\n",
    "                        \n",
    "                        request_body['content'] = {\n",
    "                            \"application/json\": {\n",
    "                                \"schema\": {\n",
    "                                    \"type\": \"object\"\n",
    "                                }\n",
    "                                \n",
    "                        }}\n",
    "                        if 'properties' in old_parameter['schema'].keys():\n",
    "                            request_body['content']['application/json']['schema']['properties'] = old_parameter['schema']['properties']\n",
    "                        new_path['requestBody'] = request_body\n",
    "                    else:                 \n",
    "                        new_parameter = {}\n",
    "                        for k,v in old_parameter.items():\n",
    "                            newtype = {}\n",
    "                            if k == 'type':\n",
    "                                newtype['type'] = v\n",
    "                            elif k == \"default\":\n",
    "                                newtype['default'] = v  \n",
    "                            elif k == \"enum\":\n",
    "                                newtype['enum'] = v\n",
    "                            else:\n",
    "                                new_parameter[k] = v\n",
    "                            new_parameter['schema'] = newtype\n",
    "                        parameters.append(new_parameter)\n",
    "                    if len(parameters) > 0:\n",
    "                        new_path['parameters'] = parameters\n",
    "                \n",
    "            # responses\n",
    "            if 'responses' in content.keys():\n",
    "                if '200' in content['responses'].keys():\n",
    "                    new_path['responses'] = {\n",
    "                        '200': {\n",
    "                            'description': content['responses']['200']['description']\n",
    "                        }\n",
    "                    }\n",
    "                    if 'schema' in content['responses'].keys():\n",
    "                        new_path['responses'][\"schema\"]: {\n",
    "                            \"application/json\": {\n",
    "                                \"schema\": content['responses']['200']['schema']}}\n",
    "            if not 'responses' in new_path.keys():              \n",
    "                new_path['responses'] = {\n",
    "                    '200': {\n",
    "                        'description': \"Success !\"\n",
    "                    }\n",
    "                }\n",
    "\n",
    "\n",
    "            paths[path] = {}\n",
    "            paths[path][method] = new_path\n",
    "\n",
    "schemas_file = os.path.join('..', 'rundeck', 'definitions.yaml')\n",
    "with open(schemas_file, 'r') as sf:\n",
    "    schemas_dict = yaml.load(sf, Loader = yaml.FullLoader)\n"
   ]
  },
  {
   "cell_type": "markdown",
   "metadata": {},
   "source": [
    "## write security schemes (not schemas !)"
   ]
  },
  {
   "cell_type": "code",
   "execution_count": 3,
   "metadata": {},
   "outputs": [],
   "source": [
    "security_schemes = {\n",
    "    'rundeck_auth': {\n",
    "        \"type\": 'apiKey',\n",
    "        \"in\": \"header\",\n",
    "        \"name\": \"X-Rundeck-Auth-Token\"\n",
    "    }  \n",
    "}"
   ]
  },
  {
   "cell_type": "markdown",
   "metadata": {},
   "source": [
    "## Create tags"
   ]
  },
  {
   "cell_type": "code",
   "execution_count": 4,
   "metadata": {},
   "outputs": [],
   "source": [
    "alltags = set()\n",
    "for path, api in paths.items():\n",
    "    for method, action in api.items():\n",
    "        for tag in action['tags']:\n",
    "            alltags.add(tag)\n",
    "\n",
    "tags = []\n",
    "for tag in list(alltags):\n",
    "    tags.append({\n",
    "        \"name\": tag,\n",
    "        \"description\": f\"API endpoints to {tag}s\" \n",
    "    })"
   ]
  },
  {
   "cell_type": "markdown",
   "metadata": {},
   "source": [
    "## Generate external Docs"
   ]
  },
  {
   "cell_type": "code",
   "execution_count": 5,
   "metadata": {},
   "outputs": [],
   "source": [
    "external_docs = {\n",
    "    \"description\": \"Combined API specifications for Rundeck\",\n",
    "    \"url\": \"https://github.com/Lattice-Works/openlattice-rundeck\"\n",
    "}"
   ]
  },
  {
   "cell_type": "markdown",
   "metadata": {},
   "source": [
    "# Combine in specifications"
   ]
  },
  {
   "cell_type": "code",
   "execution_count": 6,
   "metadata": {},
   "outputs": [],
   "source": [
    "full_spec = {}\n",
    "full_spec['openapi'] = \"3.0.0\"\n",
    "full_spec['info'] = api_dict['info']\n",
    "full_spec['paths'] = paths\n",
    "full_spec['components'] = {}\n",
    "full_spec['components']['securitySchemes'] = security_schemes\n",
    "full_spec['components']['schemas'] = schemas_dict\n",
    "full_spec['tags'] = tags\n",
    "full_spec['externalDocs'] = external_docs"
   ]
  },
  {
   "cell_type": "markdown",
   "metadata": {},
   "source": [
    "# Write to combined yaml"
   ]
  },
  {
   "cell_type": "code",
   "execution_count": 7,
   "metadata": {},
   "outputs": [],
   "source": [
    "new_file = \"./rundeck.yaml\"\n",
    "with open(new_file, 'w') as fl:\n",
    "    yaml.dump(full_spec, fl, default_flow_style=False, sort_keys=False)"
   ]
  },
  {
   "cell_type": "code",
   "execution_count": null,
   "metadata": {},
   "outputs": [],
   "source": []
  },
  {
   "cell_type": "code",
   "execution_count": null,
   "metadata": {},
   "outputs": [],
   "source": []
  },
  {
   "cell_type": "code",
   "execution_count": null,
   "metadata": {},
   "outputs": [],
   "source": []
  },
  {
   "cell_type": "code",
   "execution_count": null,
   "metadata": {},
   "outputs": [],
   "source": []
  }
 ],
 "metadata": {
  "kernelspec": {
   "display_name": "Python 3",
   "language": "python",
   "name": "python3"
  },
  "language_info": {
   "codemirror_mode": {
    "name": "ipython",
    "version": 3
   },
   "file_extension": ".py",
   "mimetype": "text/x-python",
   "name": "python",
   "nbconvert_exporter": "python",
   "pygments_lexer": "ipython3",
   "version": "3.6.7"
  },
  "toc": {
   "base_numbering": 1,
   "nav_menu": {},
   "number_sections": true,
   "sideBar": true,
   "skip_h1_title": false,
   "title_cell": "Table of Contents",
   "title_sidebar": "Contents",
   "toc_cell": false,
   "toc_position": {},
   "toc_section_display": true,
   "toc_window_display": false
  }
 },
 "nbformat": 4,
 "nbformat_minor": 2
}
